{
 "cells": [
  {
   "cell_type": "markdown",
   "id": "5f0b29af",
   "metadata": {},
   "source": [
    "# Quantitative analysis"
   ]
  },
  {
   "cell_type": "markdown",
   "id": "1bf61d2d",
   "metadata": {},
   "source": [
    "This notebook contains the code for quantitative analysis of the synthetic images. Many different images will be loaded, based on whether they are synthetic or real data. When comparing synthetic data to real data, the validation data for that specific model is always used to compare. The code for calculating the metrics FID, MS-SSIM and SSIM used the following tutorial from the MONAI-generative framework: https://github.com/Project-MONAI/GenerativeModels/blob/main/tutorials/generative/2d_ddpm/2d_ddpm_tutorial_ignite.ipynb\n"
   ]
  },
  {
   "cell_type": "code",
   "execution_count": null,
   "id": "1c19e311",
   "metadata": {},
   "outputs": [],
   "source": [
    "import os\n",
    "import nibabel as nib\n",
    "import numpy as np\n",
    "import matplotlib.pyplot as plt\n",
    "import seaborn as sns\n",
    "import torch\n",
    "from monai.data import DataLoader, Dataset\n",
    "from generative.metrics import FIDMetric, MultiScaleSSIMMetric, SSIMMetric\n",
    "#print_config()"
   ]
  },
  {
   "cell_type": "markdown",
   "id": "e7c14195",
   "metadata": {},
   "source": [
    "# Images to analyze"
   ]
  },
  {
   "cell_type": "markdown",
   "id": "5b1ca1c9",
   "metadata": {},
   "source": [
    "Comment out the ones not in use"
   ]
  },
  {
   "cell_type": "markdown",
   "id": "8b2b1eea",
   "metadata": {},
   "source": [
    "### Real images"
   ]
  },
  {
   "cell_type": "code",
   "execution_count": null,
   "id": "27424c79",
   "metadata": {},
   "outputs": [],
   "source": [
    "real_images_path =\"Real_images/Real_validation_data_bs16_for_epoch250_lacie\" #OBSSSS\n",
    "#real_images_path =\"Real_images/Real_validation_data_bs32_for_epoch250\"\n",
    "#real_images_path = \"Real_images/Real_training_data_bs16_epoch\"\n",
    "#real_images_path = \"Real_images/Real_validation_data_bs8_8nov\"\n",
    "#real_images_path = \"Real_images/Real_training_data_bs8_8nov\"\n",
    "#real_images_path = \"Real_images/Real_validation_data_500timesteps\""
   ]
  },
  {
   "cell_type": "markdown",
   "id": "e32a9098",
   "metadata": {},
   "source": [
    "### Synthetic images"
   ]
  },
  {
   "cell_type": "code",
   "execution_count": null,
   "id": "ce1604c8",
   "metadata": {},
   "outputs": [],
   "source": [
    "#gen_images_path = \"Synthetic_images/bs16_150epochs_3nov\"\n",
    "#gen_images_path = \"Synthetic_images/bs16_150epochs_22_nov_larger_dataset\"\n",
    "#gen_images_path = \"Synthetic_images/bs16_125epochs_3nov\"\n",
    "#gen_images_path = \"Synthetic_images/bs32_epoch249av250_pretrained_1nov\"\n",
    "#gen_images_path = \"Synthetic_images/bs32_epoch249av250_pretrained_2nov\"\n",
    "#gen_images_path = \"Synthetic_images/bs32_epoch149av250_pretrained_1nov\"\n",
    "#gen_images_path = \"Synthetic_images/bs32_epoch99av250_pretrained_1nov\"\n",
    "#gen_images_path = \"Synthetic_images/bs32_epoch124av250_pretrained_1nov\"\n",
    "#gen_images_path = \"Synthetic_images/bs32_epoch174av250_pretrained_1nov\"\n",
    "#gen_images_path = \"Real_images/Real_validation_data_bs32_for_epoch250\"\n",
    "gen_images_path = \"Real_images/Real_training_data_bs16_epoch\"\n",
    "#gen_images_path = \"Synthetic_images/bs16_150epochs_timestep500\"\n",
    "#gen_images_path = \"Synthetic_images/bs8_150epochs_8nov\"\n",
    "#gen_images_path = \"Synthetic_images/bs16_150epochs_timestep500\""
   ]
  },
  {
   "cell_type": "markdown",
   "id": "8457d1a0",
   "metadata": {},
   "source": [
    "### Load images from path"
   ]
  },
  {
   "cell_type": "code",
   "execution_count": null,
   "id": "933b1905",
   "metadata": {},
   "outputs": [],
   "source": [
    "def load_images(images_folder):\n",
    "    images = []\n",
    "    \n",
    "    for element in os.listdir(images_folder):\n",
    "        #image = cv2.imread(images_folder + \"/\" + element)\n",
    "        image = nib.load(images_folder + \"/\" + element).get_fdata()\n",
    "        images.append(image)\n",
    "        \n",
    "    return images"
   ]
  },
  {
   "cell_type": "code",
   "execution_count": null,
   "id": "e9f01d05",
   "metadata": {},
   "outputs": [],
   "source": [
    "def load_images_rekkefølge(images_folder):\n",
    "    images = []\n",
    "    \n",
    "    for i in range (30):\n",
    "        #image = cv2.imread(images_folder + \"/\" + element)\n",
    "        image = nib.load(images_folder + \"/\" + \"nifti_file_\" + str(i)+\".nii\").get_fdata()\n",
    "        images.append(image)\n",
    "        \n",
    "    return images\n",
    "    "
   ]
  },
  {
   "cell_type": "code",
   "execution_count": null,
   "id": "72cd7c1e",
   "metadata": {},
   "outputs": [],
   "source": [
    "#real_images = load_images(real_images_path)#[0:30]\n",
    "#N = 100\n",
    "#synthetic_images = load_images(gen_images_path)\n",
    "#np.random.shuffle(synthetic_images)\n",
    "#synthetic_images = synthetic_images[0:N]\n",
    "real_images = load_images(real_images_path)\n",
    "#np.random.shuffle(real_images)\n",
    "#real_images = real_images[0:len(synthetic_images)]\n",
    "#print(len(real_images))\n",
    "#print(len(synthetic_images))\n",
    "#np.random.shuffle(synthetic_images)\n",
    "#synthetic_images = synthetic_images[0:100]"
   ]
  },
  {
   "cell_type": "code",
   "execution_count": null,
   "id": "4d27743d",
   "metadata": {},
   "outputs": [],
   "source": [
    "#vizualise\n",
    "print(np.array(synthetic_images).shape)\n",
    "plt.imshow(synthetic_images[2], cmap = \"gray\")\n",
    "plt.colorbar()\n",
    "plt.show()"
   ]
  },
  {
   "cell_type": "code",
   "execution_count": null,
   "id": "f9592c35",
   "metadata": {},
   "outputs": [],
   "source": [
    "real_images = load_images_rekkefølge(real_images_path)[0:18]\n",
    "for i in range(len(real_images)):\n",
    "    plt.figure()\n",
    "    plt.imshow(real_images[i], cmap = \"bone\")\n",
    "    plt.title(str(i))\n",
    "    plt.show()"
   ]
  },
  {
   "cell_type": "markdown",
   "id": "016de2ea",
   "metadata": {},
   "source": [
    "# Mean / Variance / Max / Min"
   ]
  },
  {
   "cell_type": "code",
   "execution_count": null,
   "id": "250c4905",
   "metadata": {},
   "outputs": [],
   "source": [
    "def find_metrics(images):\n",
    "    means = []\n",
    "    stds = []\n",
    "    mins = []\n",
    "    maxs = []\n",
    "    medians = []\n",
    "    \n",
    "    for image in images:\n",
    "        mu = image.mean()\n",
    "        std = np.std(image)\n",
    "        minimum = np.amin(image)\n",
    "        maximum = np.amax(image)\n",
    "        median = np.median(image)\n",
    "        \n",
    "        means.append(mu)\n",
    "        stds.append(std)\n",
    "        mins.append(minimum)\n",
    "        maxs.append(maximum)\n",
    "        medians.append(median)\n",
    "    \n",
    "    return means, stds, maxs, mins, medians"
   ]
  },
  {
   "cell_type": "code",
   "execution_count": null,
   "id": "c2740356",
   "metadata": {},
   "outputs": [],
   "source": [
    "real_means, real_stds, real_maxs, real_mins, real_medians = find_metrics(real_images)\n",
    "syn_means, syn_stds, syn_maxs, syn_mins, syn_medians = find_metrics(synthetic_images)\n",
    "\n",
    "print(\"Mean: (Real / synthetic ) \", np.around(np.mean(real_means),3), \" / \",np.around(np.mean(syn_means),3))\n",
    "print(\"Mean (stddev): (Real / synthetic ) \", np.around(np.std(real_means),3), \" / \",np.around(np.std(syn_means),3))\n",
    "\n",
    "print(\"Median: (Real / synthetic ) \", np.around(np.mean(real_medians),3), \" / \",np.around(np.mean(syn_medians),3))\n",
    "print(\"Median (stddev): (Real / synthetic ) \", np.around(np.std(real_medians),3), \" / \",np.around(np.std(syn_medians),3))\n",
    "\n",
    "print(\"Standard deviation: (Real / synthetic) \", np.around(np.mean(real_stds),3), \" / \",np.around(np.mean(syn_stds),3))\n",
    "print(\"Variation in Standard deviation: (Real / synthetic) \", np.around(np.std(real_stds),3), \" / \",np.around(np.std(syn_stds),3))\n",
    "\n",
    "print(\"Max pixel value: (Real / synthetic) \", np.around(np.mean(real_maxs),3), \" / \",np.around(np.mean(syn_maxs),3))\n",
    "print(\"Min pixel value: (Real / synthetic) \", np.around(np.mean(real_mins),3), \" / \",np.around(np.mean(syn_mins),3))"
   ]
  },
  {
   "cell_type": "markdown",
   "id": "f9d9106c",
   "metadata": {},
   "source": [
    "# Histogram analysis"
   ]
  },
  {
   "cell_type": "code",
   "execution_count": null,
   "id": "3d1b5356",
   "metadata": {},
   "outputs": [],
   "source": [
    "def find_mean_histogram(images):\n",
    "    histograms = []\n",
    "    binss = []\n",
    "    for image in images:\n",
    "        counts,bins = np.histogram(image, bins = 256)\n",
    "        #print(\"bins:\", bins)\n",
    "        histograms.append(counts)\n",
    "        binss.append(bins)\n",
    "        #plt.stairs(counts, bins)\n",
    "    #plt.show()\n",
    "    \n",
    "    average_histogram = np.mean(histograms, axis=0)\n",
    "    plt.stairs(average_histogram, bins, color = \"blue\", fill = True)\n",
    "    plt.grid()\n",
    "    #plt.ylim((0,550))\n",
    "    plt.xlim((0,1))\n",
    "    plt.title(\"Average histogram\")\n",
    "    plt.ylabel(\"Frequency\")\n",
    "    plt.xlabel(\"pixel intensity\")\n",
    "    #print(average_histogram.shape)\n",
    "    #print(np.median(average_histogram))\n",
    "    #print(average_histogram)\n",
    "    #plt.axvline(average_histogram.mean(), color = \"blue\", linestyle = \"dashed\", linewidth = 1)\n",
    "    plt.show()\n",
    "    \n",
    "    #sns.histplot(average_histogram, bins = 256)\n",
    "    \n",
    "    return average_histogram, binss"
   ]
  },
  {
   "cell_type": "code",
   "execution_count": null,
   "id": "18fb7587",
   "metadata": {},
   "outputs": [],
   "source": [
    "avg_hist_real, real_binss = find_mean_histogram(real_images)\n",
    "avg_hist_syn= find_mean_histogram(synthetic_images)"
   ]
  },
  {
   "cell_type": "markdown",
   "id": "b27a5613",
   "metadata": {},
   "source": [
    "# Comparison of different models"
   ]
  },
  {
   "cell_type": "code",
   "execution_count": null,
   "id": "6916dda5",
   "metadata": {},
   "outputs": [],
   "source": [
    "model_names = [\"Synthetic_images/bs32_epoch249av250_pretrained_1nov\",\"Synthetic_images/bs32_epoch149av250_pretrained_1nov\",\"Synthetic_images/bs32_epoch99av250_pretrained_1nov\",\"Synthetic_images/bs16_150epochs_3nov\", \"Synthetic_images/bs16_125epochs_3nov\",\"Synthetic_images/bs8_150epochs_8nov\",\"Synthetic_images/bs16_150epochs_timestep500\"]"
   ]
  },
  {
   "cell_type": "code",
   "execution_count": null,
   "id": "b299ffaf",
   "metadata": {},
   "outputs": [],
   "source": [
    "model1 = load_images(model_names[0])\n",
    "model2 = load_images(model_names[1])\n",
    "model3 = load_images(model_names[2])\n",
    "model4 = load_images(model_names[3])\n",
    "model5 = load_images(model_names[4])\n",
    "model6 = load_images(model_names[5])\n",
    "model7 = load_images(model_names[6])\n",
    "\n",
    "means1, stds1, maxs1, mins1, medians1 = find_metrics(model1)\n",
    "means2, stds2, maxs2, mins2, medians2 = find_metrics(model2)\n",
    "means3, stds3, maxs3, mins3, medians3 = find_metrics(model3)\n",
    "means4, stds4, maxs4, mins4, medians4 = find_metrics(model4)\n",
    "means5, stds5, maxs5, mins5, medians5 = find_metrics(model5)\n",
    "means6, stds6, maxs6, mins6, medians6 = find_metrics(model6)\n",
    "means7, stds7, maxs7, mins7, medians7 = find_metrics(model7)\n",
    "\n"
   ]
  },
  {
   "cell_type": "code",
   "execution_count": null,
   "id": "239106db",
   "metadata": {},
   "outputs": [],
   "source": [
    "mean_box = [list(real_means),list(means1), list(means2), list(means3),list(means4), list(means5), list(means6), list(means7)]# list(gen_maxs_bs64)]\n",
    "sns.boxplot(data=mean_box, showfliers = False)\n",
    "sns.stripplot(data=mean_box, color = \"black\")\n",
    "plt.title(\"Mean pixel value for models 1 - 7\")\n",
    "plt.xlabel(\"Models\")\n",
    "plt.ylabel(\"Mean pixel value\")\n",
    "plt.show()\n",
    "\n",
    "median_box = [list(medians1), list(medians2), list(medians3),list(medians4), list(medians5), list(medians6), list(medians7)]# list(gen_maxs_bs64)]\n",
    "sns.boxplot(data=median_box, showfliers = False)\n",
    "sns.stripplot(data=median_box, color = \"black\")\n",
    "plt.title(\"Median pixel value for models 1 - 7\")\n",
    "plt.xlabel(\"Models\")\n",
    "plt.ylabel(\"Median pixel value\")\n",
    "plt.show()\n",
    "\n",
    "maxs_box = [list(real_maxs),list(maxs1), list(maxs2), list(maxs3),list(maxs4), list(maxs5), list(maxs6), list(maxs7)]# list(gen_maxs_bs64)]\n",
    "sns.boxplot(data=maxs_box, showfliers = False)\n",
    "sns.stripplot(data=maxs_box, color = \"black\")\n",
    "plt.title(\"Maximum pixel value for models 1 - 7\")\n",
    "plt.xlabel(\"Models\")\n",
    "plt.ylabel(\"Maximum pixel value\")\n",
    "plt.show()\n",
    "\n",
    "mins_box = [list(real_mins),list(mins1), list(mins2), list(mins3),list(mins4), list(mins5), list(mins6), list(mins7)]# list(gen_maxs_bs64)]\n",
    "sns.boxplot(data=mins_box, showfliers = False)\n",
    "sns.stripplot(data=mins_box, color = \"black\")\n",
    "plt.title(\"Minimum pixel value for models 1 - 7\")\n",
    "plt.xlabel(\"Models\")\n",
    "#plt.xlim((1,7))\n",
    "plt.ylabel(\"Minimum pixel value\")\n",
    "plt.show()\n",
    "\n",
    "mins_box = [list(real_stds), list(stds1), list(stds2), list(stds3),list(stds4), list(stds5), list(stds6), list(stds7)]# list(gen_maxs_bs64)]\n",
    "sns.boxplot(data=mins_box, showfliers = False)\n",
    "sns.stripplot(data=mins_box, color = \"black\")\n",
    "plt.title(\"Variation in pixel values for models 1 - 7\")\n",
    "plt.xlabel(\"Models\")\n",
    "plt.ylabel(\"Standard deviation\")\n",
    "plt.show()\n",
    "\n"
   ]
  },
  {
   "cell_type": "markdown",
   "id": "920b0707",
   "metadata": {},
   "source": [
    "# Frequency spectrum analysis"
   ]
  },
  {
   "cell_type": "code",
   "execution_count": null,
   "id": "8548685e",
   "metadata": {},
   "outputs": [],
   "source": [
    "real_fourier_images = []\n",
    "for image in real_images:\n",
    "    f_transform = np.fft.fft2(image)\n",
    "    f_transform_shifted = np.fft.fftshift(f_transform)\n",
    "    power_spectrum = np.abs(f_transform_shifted) ** 2\n",
    "    real_fourier_images.append(power_spectrum)\n",
    "    \n",
    "generated_fourier_images = []\n",
    "for image in synthetic_images:\n",
    "    f_transform = np.fft.fft2(image)\n",
    "    f_transform_shifted = np.fft.fftshift(f_transform)\n",
    "    power_spectrum = np.abs(f_transform_shifted) ** 2\n",
    "    generated_fourier_images.append(power_spectrum)"
   ]
  },
  {
   "cell_type": "code",
   "execution_count": null,
   "id": "8e34df7c",
   "metadata": {},
   "outputs": [],
   "source": [
    "f_real_means, f_real_stds, f_real_maxs, f_real_mins, f_real_medians = find_metrics(real_fourier_images)\n",
    "f_syn_means, f_syn_stds, f_syn_maxs, f_syn_mins, f_syn_medians = find_metrics(generated_fourier_images)\n",
    "\n",
    "\n",
    "print(\"Mean: (Real / synthetic ) \", np.around(np.mean(f_real_means),3), \" / \",np.around(np.mean(f_syn_means),3))\n",
    "print(\"Mean (stddev): (Real / synthetic ) \", np.around(np.std(f_real_means),3), \" / \",np.around(np.std(f_syn_means),3))\n",
    "\n",
    "#print(\"Median: (Real / synthetic ) \", np.around(np.mean(f_real_medians),3), \" / \",np.around(np.mean(f_syn_medians),3))\n",
    "#print(\"Median (stddev): (Real / synthetic ) \", np.around(np.std(f_real_medians),3), \" / \",np.around(np.std(f_syn_medians),3))\n",
    "\n",
    "#print(\"Standard deviation: (Real / synthetic) \", np.around(np.mean(f_real_stds),3), \" / \",np.around(np.mean(f_syn_stds),3))\n",
    "#print(\"Variation in Standard deviation: (Real / synthetic) \", np.around(np.std(f_real_stds),3), \" / \",np.around(np.std(f_syn_stds),3))\n",
    "\n",
    "print(\"Max pixel value: (Real / synthetic) \", np.around(np.mean(f_real_maxs),3), \" / \",np.around(np.mean(f_syn_maxs),3))\n",
    "print(\"Min pixel value: (Real / synthetic) \", np.around(np.mean(f_real_mins),3), \" / \",np.around(np.mean(f_syn_mins),3))"
   ]
  },
  {
   "cell_type": "code",
   "execution_count": null,
   "id": "5994c1cd",
   "metadata": {},
   "outputs": [],
   "source": [
    "f_transform = np.fft.fft2(real_images[0])\n",
    "print(f_transform.shape)\n",
    "f_transform_shifted = np.fft.fftshift(f_transform)\n",
    "power_spectrum = np.abs(f_transform_shifted) ** 2\n",
    "plt.imshow(np.log1p(power_spectrum), cmap='gray')\n",
    "plt.colorbar()\n",
    "plt.title('Fourier transform of real image')\n",
    "plt.show()\n",
    "\n",
    "f_transform_gen = np.fft.fft2(synthetic_images[0])\n",
    "print(f_transform_gen.shape)\n",
    "f_transform_shifted_gen = np.fft.fftshift(f_transform_gen)\n",
    "power_spectrum_gen = np.abs(f_transform_shifted_gen) ** 2\n",
    "plt.imshow(np.log1p(power_spectrum_gen), cmap='gray')\n",
    "plt.colorbar()\n",
    "plt.title('Fourier transform of synthetic image')\n",
    "plt.show()\n",
    "\n",
    "print(np.mean(power_spectrum))\n",
    "print(np.amax(power_spectrum))\n",
    "\n",
    "print(np.mean(power_spectrum_gen))\n",
    "print(np.amax(power_spectrum_gen))"
   ]
  },
  {
   "cell_type": "code",
   "execution_count": null,
   "id": "b2f1d95e",
   "metadata": {},
   "outputs": [],
   "source": [
    "fig, axs = plt.subplots(1, 3)\n",
    "counts,bins = np.histogram(f_transform, bins = 1000)\n",
    "axs[0].stairs(counts, bins, color = \"blue\", fill = True)\n",
    "axs[1].stairs(counts, bins, color = \"green\", fill = True)\n",
    "axs[2].stairs(counts, bins, color = \"black\", fill = True)\n",
    "axs[1].set_xlim((-250, 250))\n",
    "axs[2].set_xlim((-250,250))\n",
    "axs[2].set_ylim((0, 200))\n",
    "axs[0].set_yscale(\"log\")\n",
    "axs[1].set_yscale(\"log\")\n",
    "#axs[0].set_yscale(\"log\")\n",
    "#plt.xlim((-250, 250))\n",
    "plt.show()\n",
    "\n",
    "\n",
    "fig, axs = plt.subplots(1, 3)\n",
    "counts,bins = np.histogram(f_transform_gen, bins = 1000)\n",
    "axs[0].stairs(counts, bins, color = \"blue\", fill = True)\n",
    "axs[1].stairs(counts, bins, color = \"green\", fill = True)\n",
    "axs[2].stairs(counts, bins, color = \"black\", fill = True)\n",
    "axs[1].set_xlim((-250, 250))\n",
    "axs[2].set_xlim((-250,250))\n",
    "axs[2].set_ylim((0, 200))\n",
    "axs[0].set_yscale(\"log\")\n",
    "axs[1].set_yscale(\"log\")\n",
    "#plt.xlim((-250, 250))\n",
    "plt.show()\n"
   ]
  },
  {
   "cell_type": "markdown",
   "id": "9af7b6ea",
   "metadata": {},
   "source": [
    "# FID "
   ]
  },
  {
   "cell_type": "code",
   "execution_count": null,
   "id": "f9c1650a",
   "metadata": {},
   "outputs": [],
   "source": [
    "device = torch.device(\"cpu\")#\"cuda\" if torch.cuda.is_available() else \"cpu\")\n",
    "print(f\"Using {device}\")"
   ]
  },
  {
   "cell_type": "code",
   "execution_count": null,
   "id": "bf810251",
   "metadata": {},
   "outputs": [],
   "source": [
    "def subtract_mean(x: torch.Tensor) -> torch.Tensor:\n",
    "    mean = [0.406, 0.456, 0.485]\n",
    "    x[:, 0, :, :] -= mean[0]\n",
    "    x[:, 1, :, :] -= mean[1]\n",
    "    x[:, 2, :, :] -= mean[2]\n",
    "    return x\n",
    "\n",
    "\n",
    "def spatial_average(x: torch.Tensor, keepdim: bool = True) -> torch.Tensor:\n",
    "    return x.mean([2, 3], keepdim=keepdim)\n",
    "\n",
    "\n",
    "def get_features(image):\n",
    "    # If input has just 1 channel, repeat channel to have 3 channels\n",
    "    if image.shape[1]:\n",
    "        image = image.repeat(1, 3, 1, 1)\n",
    "\n",
    "    # Change order from 'RGB' to 'BGR'\n",
    "    image = image[:, [2, 1, 0], ...]\n",
    "\n",
    "    # Subtract mean used during training\n",
    "    image = subtract_mean(image)\n",
    "\n",
    "    # Get model outputs\n",
    "    with torch.no_grad():\n",
    "        feature_image = radnet.forward(image)\n",
    "        # flattens the image spatially\n",
    "        feature_image = spatial_average(feature_image, keepdim=False)\n",
    "\n",
    "    return feature_image"
   ]
  },
  {
   "cell_type": "code",
   "execution_count": null,
   "id": "4b4c4831",
   "metadata": {},
   "outputs": [],
   "source": [
    "def preprocess_for_fid(images):\n",
    "    images = np.array(images).astype('float32')\n",
    "    images = torch.unsqueeze(torch.tensor(images), 1)\n",
    "    print(images.shape)\n",
    "    return images"
   ]
  },
  {
   "cell_type": "code",
   "execution_count": null,
   "id": "07946baf",
   "metadata": {},
   "outputs": [],
   "source": [
    "#real_images = load_images(real_images_path)#[0:30]\n",
    "N = 100\n",
    "synthetic_images = load_images(gen_images_path)\n",
    "np.random.shuffle(synthetic_images)\n",
    "synthetic_images = synthetic_images[0:N]\n",
    "real_images = load_images(real_images_path)\n",
    "np.random.shuffle(real_images)\n",
    "real_images = real_images[0:len(synthetic_images)]\n",
    "print(len(real_images))\n",
    "print(len(synthetic_images))\n",
    "#np.random.shuffle(synthetic_images)\n",
    "#synthetic_images = synthetic_images[0:100]\n",
    "\n",
    "real_images_for_fid = preprocess_for_fid(real_images)\n",
    "synthetic_images_for_fid = preprocess_for_fid(synthetic_images)"
   ]
  },
  {
   "cell_type": "code",
   "execution_count": null,
   "id": "dd594555",
   "metadata": {},
   "outputs": [],
   "source": [
    "'''Load RadImageNet'''\n",
    "radnet = torch.hub.load(\"Warvito/radimagenet-models\", model=\"radimagenet_resnet50\", verbose=True)\n",
    "radnet.to(device)\n",
    "radnet.eval()"
   ]
  },
  {
   "cell_type": "code",
   "execution_count": null,
   "id": "767d83f3",
   "metadata": {},
   "outputs": [],
   "source": [
    "def calculate_fid(dataloader1, dataloader2):\n",
    "    images1_features = []\n",
    "    images2_features = []\n",
    "    \n",
    "    for step, x in enumerate(dataloader1):\n",
    "        images1 = x.to(device)\n",
    "\n",
    "        # Get the features for the first set of images\n",
    "        eval_feats1 = get_features(images1)\n",
    "        images1_features.append(eval_feats1)\n",
    "    \n",
    "    for step, y in enumerate(dataloader2):\n",
    "        images2 = y.to(device)\n",
    "\n",
    "        # Get the features for the second set of images\n",
    "        eval_feats2 = get_features(images2)\n",
    "        images2_features.append(eval_feats2)\n",
    "        \n",
    "    eval_features1 = torch.vstack(images1_features)\n",
    "    eval_features2 = torch.vstack(images2_features)\n",
    "    \n",
    "    fid = FIDMetric()\n",
    "    fid_res = fid(eval_features1, eval_features2)\n",
    "    return fid_res.item()"
   ]
  },
  {
   "cell_type": "code",
   "execution_count": null,
   "id": "f6b6d522",
   "metadata": {},
   "outputs": [],
   "source": [
    "fid = calculate_fid(real_images_for_fid, synthetic_images_for_fid)\n",
    "print(fid)"
   ]
  },
  {
   "cell_type": "markdown",
   "id": "f6ed8fde",
   "metadata": {},
   "source": [
    "# PSNR"
   ]
  },
  {
   "cell_type": "code",
   "execution_count": null,
   "id": "bb02a0bd",
   "metadata": {},
   "outputs": [],
   "source": [
    "from monai.metrics import PSNRMetric\n",
    "pnsr = PSNRMetric(max_val = 1.0)\n",
    "PNSR = pnsr(real_images_for_fid[50], synthetic_images_for_fid[0])\n",
    "print(PNSR.item())"
   ]
  },
  {
   "cell_type": "markdown",
   "id": "6b4ce33d",
   "metadata": {},
   "source": [
    "# MS-SSIM & SSIM"
   ]
  },
  {
   "cell_type": "code",
   "execution_count": null,
   "id": "a3767e2c",
   "metadata": {},
   "outputs": [],
   "source": [
    "def calculate_ssim_msssim(images1, images2):\n",
    "    ms_ssim_scores = []\n",
    "    ssim_scores = []\n",
    "\n",
    "    ms_ssim = MultiScaleSSIMMetric(spatial_dims=2, data_range=1.0, kernel_size=4)\n",
    "    ssim = SSIMMetric(spatial_dims=2, data_range=1.0, kernel_size=4)\n",
    "    \n",
    "    for i in range(len(images1)):\n",
    "        for j in range(len(images2)):\n",
    "            ms_ssim_scores.append(ms_ssim(torch.unsqueeze(images1[i],0),torch.unsqueeze(images2[j],0)))\n",
    "            ssim_scores.append(ssim(torch.unsqueeze(images1[i],0), torch.unsqueeze(images2[j],0)))\n",
    "    \n",
    "    return ms_ssim_scores, ssim_scores\n",
    "\n",
    "def calculate_ssim_msssim_self(images1):\n",
    "    ms_ssim_scores = []\n",
    "    ssim_scores = []\n",
    "\n",
    "    ms_ssim = MultiScaleSSIMMetric(spatial_dims=2, data_range=1.0, kernel_size=4)\n",
    "    ssim = SSIMMetric(spatial_dims=2, data_range=1.0, kernel_size=4)\n",
    "    \n",
    "    for i in range(len(images1)):\n",
    "        for j in range(i,len(images1)):\n",
    "            if (i!= j):\n",
    "                ms_ssim_scores.append(ms_ssim(torch.unsqueeze(images1[i],0),torch.unsqueeze(images1[j],0)))\n",
    "                ssim_scores.append(ssim(torch.unsqueeze(images1[i],0), torch.unsqueeze(images1[j],0)))\n",
    "    \n",
    "    return ssim_scores, ms_ssim_scores"
   ]
  },
  {
   "cell_type": "code",
   "execution_count": null,
   "id": "d2e6819f",
   "metadata": {},
   "outputs": [],
   "source": [
    "#ssim, msssim = calculate_ssim_msssim(real_images_for_fid, synthetic_images_for_fid)\n",
    "ssim_syn, msssim_syn = calculate_ssim_msssim_self(real_images_for_fid)"
   ]
  },
  {
   "cell_type": "code",
   "execution_count": null,
   "id": "5fb8910e",
   "metadata": {},
   "outputs": [],
   "source": [
    "ms_ssim_scores = torch.cat(msssim_syn, dim=0)\n",
    "ssim_scores = torch.cat(ssim_syn, dim=0)\n",
    "print(f\"MS-SSIM Metric: {ms_ssim_scores.mean():.4f} +- {ms_ssim_scores.std():.4f}\")\n",
    "print(f\"SSIM Metric: {ssim_scores.mean():.4f} +- {ssim_scores.std():.4f}\")"
   ]
  },
  {
   "cell_type": "code",
   "execution_count": null,
   "id": "ffcd0cc5",
   "metadata": {},
   "outputs": [],
   "source": [
    "ms_ssim = MultiScaleSSIMMetric(spatial_dims=2, data_range=1.0, kernel_size=4)\n",
    "ssim = SSIMMetric(spatial_dims=2, data_range=1.0, kernel_size=4)\n",
    "\n",
    "ms_ssim_test = ms_ssim(real_images_for_fid, synthetic_images_for_fid)\n",
    "ssim_test = ssim(real_images_for_fid, synthetic_images_for_fid)\n",
    "print(f\"MS-SSIM score:\", ms_ssim_test.mean().item())\n",
    "print(f\"MS-SSIM score:\", ssim_test.mean().item())"
   ]
  }
 ],
 "metadata": {
  "kernelspec": {
   "display_name": "Python 3 (ipykernel)",
   "language": "python",
   "name": "python3"
  },
  "language_info": {
   "codemirror_mode": {
    "name": "ipython",
    "version": 3
   },
   "file_extension": ".py",
   "mimetype": "text/x-python",
   "name": "python",
   "nbconvert_exporter": "python",
   "pygments_lexer": "ipython3",
   "version": "3.9.13"
  }
 },
 "nbformat": 4,
 "nbformat_minor": 5
}
