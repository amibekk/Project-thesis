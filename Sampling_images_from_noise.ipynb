{
 "cells": [
  {
   "cell_type": "markdown",
   "id": "19e38b37",
   "metadata": {},
   "source": [
    "# Sampling images from the trained diffusion models"
   ]
  },
  {
   "cell_type": "markdown",
   "id": "fc08b069",
   "metadata": {},
   "source": [
    "This code samples from the trained diffusion models. Sampling is done following the tutorial from the MONAI-generative framework: https://github.com/Project-MONAI/GenerativeModels/blob/main/tutorials/generative/2d_ddpm/2d_ddpm_tutorial.ipynb"
   ]
  },
  {
   "cell_type": "code",
   "execution_count": null,
   "id": "f8e93bc9",
   "metadata": {},
   "outputs": [],
   "source": [
    "import torch\n",
    "from generative.inferers import DiffusionInferer\n",
    "from generative.networks.nets import DiffusionModelUNet\n",
    "from generative.networks.schedulers import DDPMScheduler\n",
    "from torch.cuda.amp import autocast\n",
    "import matplotlib.pyplot as plt\n",
    "import cv2\n",
    "from monai.utils import set_determinism\n",
    "from monai.config import print_config\n",
    "import nibabel as nib\n",
    "import numpy as np\n",
    "print_config()"
   ]
  },
  {
   "cell_type": "code",
   "execution_count": null,
   "id": "0d0032b1",
   "metadata": {},
   "outputs": [],
   "source": [
    "set_determinism(42)"
   ]
  },
  {
   "cell_type": "markdown",
   "id": "6bcc485c",
   "metadata": {},
   "source": [
    "### Loading trained model "
   ]
  },
  {
   "cell_type": "code",
   "execution_count": null,
   "id": "eafdb747",
   "metadata": {},
   "outputs": [],
   "source": [
    "model = DiffusionModelUNet(\n",
    "    spatial_dims=2,\n",
    "    in_channels=1,\n",
    "    out_channels=1,\n",
    "    num_channels=(128, 256, 256), #256, 256, 512\n",
    "    attention_levels=(False, True, True),\n",
    "    num_res_blocks=1,\n",
    "    num_head_channels=256,\n",
    ")\n",
    "device = torch.device(\"cuda\")\n",
    "'''Specify which model you wish to sample from'''\n",
    "#modelname = \"Models/bs16_Epoch124_of_2503nov\" #74 / 124 / 174\n",
    "#modelname = \"Models/bs16_Epoch124_of_2503nov\"\n",
    "#modelname = \"Models/bs16_Epoch149_of_2008nov_timestep500\"\n",
    "#modelname = \"Models/bs8_Epoch149_of_2008nov\"\n",
    "modelname = \"Models/bs16_Epoch149_of_2503nov\"\n",
    "pre_trained_model = torch.load(modelname) #,map_location=torch.device('cpu'))\n",
    "model.load_state_dict(pre_trained_model, strict = False) \n",
    "model.to(device)\n",
    "\n",
    "\n",
    "scheduler = DDPMScheduler(num_train_timesteps=1000)#1000\n",
    "inferer = DiffusionInferer(scheduler)"
   ]
  },
  {
   "cell_type": "markdown",
   "id": "66819cea",
   "metadata": {},
   "source": [
    "### Sampling images"
   ]
  },
  {
   "cell_type": "code",
   "execution_count": null,
   "id": "6019781b",
   "metadata": {},
   "outputs": [],
   "source": [
    "noise = torch.randn((100, 1, 128, 128)) #Generating 100 images with the shape (1, 128, 128)\n",
    "noise = noise.to(device)\n",
    "scheduler.set_timesteps(num_inference_steps=1000)\n",
    "\n",
    "images = inferer.sample(input_noise=noise, diffusion_model=model, scheduler=scheduler)\n",
    "print(len(images))\n",
    "\n",
    "\n",
    "for i in range(len(images)):\n",
    "    print(images[i, 0].cpu().shape, images[i, 0].cpu().type)\n",
    "    numpy_arr = images[i, 0].detach().cpu().numpy()\n",
    "    #numpy_arr_scaled = 255 * numpy_arr\n",
    "    plt.imshow(numpy_arr, vmin = 0, vmax = 1, cmap = \"bone\")\n",
    "    #plt.imshow(numpy_arr_scaled, cmap = \"bone\")\n",
    "    #cv2.imwrite(\"Genererte_\" + str(i) + \".png\", numpy_arr_scaled)\n",
    "    nifti_image = nib.Nifti1Image(numpy_arr,np.eye(4))\n",
    "    #nib.save(nifti_image, \"Synthetic_images/bs16_125epochs_3nov/nifti_file_\" + str(i) + \".nii\") #125\n",
    "    #nib.save(nifti_image, \"Synthetic_images/bs8_150epochs_8nov/nifti_file_\" + str(i) + \".nii\")\n",
    "    nib.save(nifti_image, \"Synthetic_images/bs16_150epochs_22_nov_larger_dataset/nifti_file_\" + str(i) + \".nii\")\n",
    "    #nib.save(nifti_image, \"Synthetic_images/bs16_150epochs_timestep500/nifti_file_\" + str(i) + \".nii\")"
   ]
  },
  {
   "cell_type": "markdown",
   "id": "6ce4245d",
   "metadata": {},
   "source": [
    "### Displaying diffusion process"
   ]
  },
  {
   "cell_type": "code",
   "execution_count": null,
   "id": "970fa7fd",
   "metadata": {},
   "outputs": [],
   "source": [
    "model.eval()\n",
    "noise = torch.randn((1, 1, 128, 128))\n",
    "noise = noise.to(device)\n",
    "scheduler.set_timesteps(num_inference_steps=1000)\n",
    "with autocast(enabled=True):\n",
    "    image, intermediates = inferer.sample(\n",
    "        input_noise=noise, diffusion_model=model, scheduler=scheduler, save_intermediates=True, intermediate_steps=200\n",
    "    )\n",
    "\n",
    "chain = torch.cat(intermediates, dim=-1)\n",
    "\n",
    "plt.style.use(\"default\")\n",
    "plt.imshow(chain[0, 0].cpu(), vmin=0, vmax=1, cmap=\"gray\")\n",
    "plt.tight_layout()\n",
    "plt.axis(\"off\")\n",
    "plt.figure(figsize=(30,10))\n",
    "plt.show()"
   ]
  }
 ],
 "metadata": {
  "kernelspec": {
   "display_name": "Python 3 (ipykernel)",
   "language": "python",
   "name": "python3"
  },
  "language_info": {
   "codemirror_mode": {
    "name": "ipython",
    "version": 3
   },
   "file_extension": ".py",
   "mimetype": "text/x-python",
   "name": "python",
   "nbconvert_exporter": "python",
   "pygments_lexer": "ipython3",
   "version": "3.9.13"
  }
 },
 "nbformat": 4,
 "nbformat_minor": 5
}
